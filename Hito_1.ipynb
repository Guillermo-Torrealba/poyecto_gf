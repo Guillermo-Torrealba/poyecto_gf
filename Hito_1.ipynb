{
  "nbformat": 4,
  "nbformat_minor": 0,
  "metadata": {
    "colab": {
      "provenance": [],
      "include_colab_link": true
    },
    "kernelspec": {
      "name": "python3",
      "display_name": "Python 3"
    },
    "language_info": {
      "name": "python"
    }
  },
  "cells": [
    {
      "cell_type": "markdown",
      "metadata": {
        "id": "view-in-github",
        "colab_type": "text"
      },
      "source": [
        "<a href=\"https://colab.research.google.com/github/Guillermo-Torrealba/poyecto_gf/blob/master/Hito_1.ipynb\" target=\"_parent\"><img src=\"https://colab.research.google.com/assets/colab-badge.svg\" alt=\"Open In Colab\"/></a>"
      ]
    },
    {
      "cell_type": "markdown",
      "metadata": {
        "id": "qWbysHuxj7Ay"
      },
      "source": [
        "Este cuaderno deriva la formula discreta de valoración de Black-Scholes para un periodo.\n",
        "Usaremos la librería simbólica para la derivación algebraica general"
      ]
    },
    {
      "cell_type": "code",
      "metadata": {
        "id": "A94tm6BPV8ek"
      },
      "source": [
        "from sympy import *\n",
        "init_printing()"
      ],
      "execution_count": 2,
      "outputs": []
    },
    {
      "cell_type": "markdown",
      "metadata": {
        "id": "7gFqI2F2kfBr"
      },
      "source": [
        "La estructura financiera es la siguiente:\n",
        "\n",
        "Dos periodos $t=0,1$ y 2 estados de la naturaleza en $t=1$: bueno (u) y malo (d)\n",
        "\n",
        "Dos activos:\n",
        "- libre de riesgo (bono) con valor inicial $B$ y retorno $\\tilde r>1$\n",
        "- riesgoso (acción) con valor inicial $S_0$ y retornos $u>1$ ó $1>d$\n",
        "\n",
        "Derivado: opción de compra Europea de la acción (se ejerce solo al final)\n",
        "- $K$ precio de ejercicio\n",
        "- $S_1$ valor del activo al final\n",
        "- $\\max\\{0,S_1-K\\}$ retorno para $S_1\\in\\{uS_0,dS_0\\}$"
      ]
    },
    {
      "cell_type": "markdown",
      "metadata": {
        "id": "t2bbVPgDlOC7"
      },
      "source": [
        "1. ¿Cuál es el precio de los activos no derivados?\n",
        "- De esta forma el precio del bono es $B$ y el precio de la acción es $S_0$.\n",
        "2. ¿Cuál es el retorno de los activos no derivados?\n",
        "- El retorno del bono es $\\tilde rB$ tanto en el estado bueno como en el estado malo\n",
        "- El retorno de la acción es $uS_0$ en el estado bueno y $dS_0$ en el estado malo\n",
        "3. ¿Cuál es el retorno de la opción?\n",
        "- RESPONDER"
      ]
    },
    {
      "cell_type": "markdown",
      "metadata": {
        "id": "CLPf6mSFl--g"
      },
      "source": [
        "Inicialmente nos concentraremos en los activos no derivados. Definimos $W=\\left[-q'\\atop R\\right]$ donde los precios de los activos son $q=(q_1,q_2)=(B,S_0)$ y los retornos son $R=(R_1,R_2)$.\n",
        "1. Encuentre la expresión de $R_1$ y $R_2$.\n",
        "- RESPONDER\n",
        "2. Encuentre $W$.\n",
        "- RESPONDER\n"
      ]
    },
    {
      "cell_type": "code",
      "metadata": {
        "id": "Cy0Kv-NQWFzo"
      },
      "source": [
        "# Parámetros Bono\n",
        "r, B = symbols('r B')\n",
        "# Parámetros Acción\n",
        "u, d, S0 = symbols('u d S0')"
      ],
      "execution_count": 3,
      "outputs": []
    },
    {
      "cell_type": "code",
      "metadata": {
        "colab": {
          "base_uri": "https://localhost:8080/",
          "height": 78
        },
        "id": "DC8ukIQ0fhMf",
        "outputId": "7330f421-1b91-41c0-b392-2bf24ecb91d6"
      },
      "source": [
        "W = Matrix([[-B, -S0], [r*B, u*S0],[r*B, d*S0]])\n",
        "W"
      ],
      "execution_count": 4,
      "outputs": [
        {
          "output_type": "execute_result",
          "data": {
            "text/plain": [
              "⎡-B   -S₀ ⎤\n",
              "⎢         ⎥\n",
              "⎢B⋅r  S₀⋅u⎥\n",
              "⎢         ⎥\n",
              "⎣B⋅r  S₀⋅d⎦"
            ],
            "text/latex": "$\\displaystyle \\left[\\begin{matrix}- B & - S_{0}\\\\B r & S_{0} u\\\\B r & S_{0} d\\end{matrix}\\right]$"
          },
          "metadata": {},
          "execution_count": 4
        }
      ]
    },
    {
      "cell_type": "markdown",
      "metadata": {
        "id": "_Se_KYUTn1O2"
      },
      "source": [
        "El Teorema Fundamental de Valoración de Activos ([Harrison and Kreps (1979)](https://www.sciencedirect.com/science/article/pii/0022053179900437)) establece que la estructura financiera  es libre de arbitraje si y sólo si existe un $\\pi\\in\\mathbb{R}^S_{++}$ tal que\n",
        "\n",
        "(Condición) $[1,\\pi']W=0$.\n",
        "\n",
        "Para utilizar este resultado, definamos el vector $[1,\\pi']$."
      ]
    },
    {
      "cell_type": "code",
      "metadata": {
        "colab": {
          "base_uri": "https://localhost:8080/",
          "height": 78
        },
        "id": "lPdpudCsfv3h",
        "outputId": "c72080e6-6a99-469c-874f-b2f6dbc231c7"
      },
      "source": [
        "pi_u, pi_d = symbols('pi_u pi_d')\n",
        "pi = Matrix([[1],[pi_u],[pi_d]])\n",
        "pi"
      ],
      "execution_count": 5,
      "outputs": [
        {
          "output_type": "execute_result",
          "data": {
            "text/plain": [
              "⎡ 1 ⎤\n",
              "⎢   ⎥\n",
              "⎢πᵤ ⎥\n",
              "⎢   ⎥\n",
              "⎣π_d⎦"
            ],
            "text/latex": "$\\displaystyle \\left[\\begin{matrix}1\\\\\\pi_{u}\\\\\\pi_{d}\\end{matrix}\\right]$"
          },
          "metadata": {},
          "execution_count": 5
        }
      ]
    },
    {
      "cell_type": "markdown",
      "metadata": {
        "id": "BaIaSdDppauN"
      },
      "source": [
        "Reemplazando en la (Condición) obtenemos el siguiente sistema de ecuaciones:"
      ]
    },
    {
      "cell_type": "code",
      "metadata": {
        "colab": {
          "base_uri": "https://localhost:8080/",
          "height": 38
        },
        "id": "Nnl0BgZpnW7g",
        "outputId": "b14290d2-ada5-4055-dddd-7b2e6a8ca7cd"
      },
      "source": [
        "NA=pi.transpose()*W\n",
        "NA"
      ],
      "execution_count": 6,
      "outputs": [
        {
          "output_type": "execute_result",
          "data": {
            "text/plain": [
              "[B⋅π_d⋅r + B⋅πᵤ⋅r - B  S₀⋅d⋅π_d + S₀⋅πᵤ⋅u - S₀]"
            ],
            "text/latex": "$\\displaystyle \\left[\\begin{matrix}B \\pi_{d} r + B \\pi_{u} r - B & S_{0} d \\pi_{d} + S_{0} \\pi_{u} u - S_{0}\\end{matrix}\\right]$"
          },
          "metadata": {},
          "execution_count": 6
        }
      ]
    },
    {
      "cell_type": "markdown",
      "metadata": {
        "id": "cD_eUsqrp-Bd"
      },
      "source": [
        "Podemos utilizar un _solver_ algebraico para encontrar expresiones generales de $\\pi_1$ y $\\pi_2$ en función de los parámetros $u,d$ y $r$:"
      ]
    },
    {
      "cell_type": "code",
      "metadata": {
        "colab": {
          "base_uri": "https://localhost:8080/",
          "height": 58
        },
        "id": "P2Z8f4vnnkgH",
        "outputId": "8f298ae9-426a-45a6-8705-24bc85261805"
      },
      "source": [
        "# Solver tutorial\n",
        "# https://docs.sympy.org/latest/modules/solvers/solvers.html\n",
        "piNA=solve([NA[0],NA[1]],[pi_u,pi_d],dict=True)\n",
        "piNA"
      ],
      "execution_count": 7,
      "outputs": [
        {
          "output_type": "execute_result",
          "data": {
            "text/plain": [
              "⎡⎧       -r + u          -d + r  ⎫⎤\n",
              "⎢⎨π_d: ──────────, πᵤ: ──────────⎬⎥\n",
              "⎣⎩     -d⋅r + r⋅u      -d⋅r + r⋅u⎭⎦"
            ],
            "text/latex": "$\\displaystyle \\left[ \\left\\{ \\pi_{d} : \\frac{- r + u}{- d r + r u}, \\  \\pi_{u} : \\frac{- d + r}{- d r + r u}\\right\\}\\right]$"
          },
          "metadata": {},
          "execution_count": 7
        }
      ]
    },
    {
      "cell_type": "markdown",
      "metadata": {
        "id": "LkgUfcI-hH1O"
      },
      "source": [
        "## Inclusión del derivado\n",
        "\n",
        "Ahora extendamos la matriz $W$ para incorporar la opción.\n",
        "\n",
        "1. Encuentre la expresión para $W$ agregando los retornos y el precio de la opción denotado por $q_3$."
      ]
    },
    {
      "cell_type": "code",
      "metadata": {
        "colab": {
          "base_uri": "https://localhost:8080/",
          "height": 78
        },
        "id": "vCyZW8bmX5m8",
        "outputId": "5eef3dcb-9050-4514-8d57-dce70eda5534"
      },
      "source": [
        "# Parámetros Opción\n",
        "q3 = 3.55\n",
        "K = 185\n",
        "# Parámetros Bono\n",
        "r, B = 5.18, 91.77\n",
        "# Parámetros Acción\n",
        "u, d, S0 = 1.003, 0.996, 184.16\n",
        "W = Matrix([[-B, -S0, -q3], [r*B, u*S0, max(0,u*S0-K)],[r*B, d*S0, max(0,d*S0-K)]])\n",
        "W"
      ],
      "execution_count": 8,
      "outputs": [
        {
          "output_type": "execute_result",
          "data": {
            "text/plain": [
              "⎡ -91.77    -184.16   -3.55⎤\n",
              "⎢                          ⎥\n",
              "⎢475.3686  184.71248    0  ⎥\n",
              "⎢                          ⎥\n",
              "⎣475.3686  183.42336    0  ⎦"
            ],
            "text/latex": "$\\displaystyle \\left[\\begin{matrix}-91.77 & -184.16 & -3.55\\\\475.3686 & 184.71248 & 0\\\\475.3686 & 183.42336 & 0\\end{matrix}\\right]$"
          },
          "metadata": {},
          "execution_count": 8
        }
      ]
    },
    {
      "cell_type": "markdown",
      "metadata": {
        "id": "Nrw0Ku90rzaO"
      },
      "source": [
        "Utilice la (Condición) del Teorema Fundamental reemplazando los valores encontrados anteriormente para $\\pi$ para definir una expresión para $q_3$."
      ]
    },
    {
      "cell_type": "code",
      "metadata": {
        "colab": {
          "base_uri": "https://localhost:8080/",
          "height": 47
        },
        "id": "DYlRnularyxo",
        "outputId": "bcb2a39d-813a-4ee3-d178-acd7472c6034"
      },
      "source": [
        "u,r,d = symbols('u r d')\n",
        "Prices=Matrix([[1],[piNA[0][pi_u]],[piNA[0][pi_d]]]).transpose()*W\n",
        "Prices"
      ],
      "execution_count": 9,
      "outputs": [
        {
          "output_type": "execute_result",
          "data": {
            "text/plain": [
              "⎡475.3686⋅(-d + r)   475.3686⋅(-r + u)          184.71248⋅(-d + r)   183.42336⋅(-r + u)            ↪\n",
              "⎢───────────────── + ───────────────── - 91.77  ────────────────── + ────────────────── - 184.16   ↪\n",
              "⎣   -d⋅r + r⋅u          -d⋅r + r⋅u                  -d⋅r + r⋅u           -d⋅r + r⋅u                ↪\n",
              "\n",
              "↪      ⎤\n",
              "↪ -3.55⎥\n",
              "↪      ⎦"
            ],
            "text/latex": "$\\displaystyle \\left[\\begin{matrix}\\frac{475.3686 \\left(- d + r\\right)}{- d r + r u} + \\frac{475.3686 \\left(- r + u\\right)}{- d r + r u} - 91.77 & \\frac{184.71248 \\left(- d + r\\right)}{- d r + r u} + \\frac{183.42336 \\left(- r + u\\right)}{- d r + r u} - 184.16 & -3.55\\end{matrix}\\right]$"
          },
          "metadata": {},
          "execution_count": 9
        }
      ]
    },
    {
      "cell_type": "code",
      "metadata": {
        "colab": {
          "base_uri": "https://localhost:8080/",
          "height": 38
        },
        "id": "_zebmDzewQX5",
        "outputId": "0ba1981b-a912-4fa0-9193-4beb9dc13289"
      },
      "source": [
        "Prices.subs([(d,0.5),(u,1.5),(r,0.01)])"
      ],
      "execution_count": 10,
      "outputs": [
        {
          "output_type": "execute_result",
          "data": {
            "text/plain": [
              "[47445.09  18095.00912  -3.55]"
            ],
            "text/latex": "$\\displaystyle \\left[\\begin{matrix}47445.09 & 18095.00912 & -3.55\\end{matrix}\\right]$"
          },
          "metadata": {},
          "execution_count": 10
        }
      ]
    },
    {
      "cell_type": "markdown",
      "metadata": {
        "id": "Y3LIiwYyw4da"
      },
      "source": [
        "## Aplicación (Grupos)\n",
        "\n",
        "Encuentre valores de $r,B,u,d,S_0$ para valorar una opción."
      ]
    },
    {
      "cell_type": "markdown",
      "metadata": {
        "id": "I0nmcOVmoqDP"
      },
      "source": [
        "# Anexo\n",
        "Para más manipulaciones simbólicas ver [este cuaderno.](https://colab.research.google.com/github/jrjohansson/scientific-python-lectures/blob/master/Lecture-5-Sympy.ipynb#scrollTo=GzKR97oUjW8T)"
      ]
    }
  ]
}